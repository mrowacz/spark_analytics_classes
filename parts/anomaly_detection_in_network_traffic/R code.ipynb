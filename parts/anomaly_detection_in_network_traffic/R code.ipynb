{
 "cells": [
  {
   "cell_type": "code",
   "execution_count": 1,
   "metadata": {},
   "outputs": [
    {
     "name": "stderr",
     "output_type": "stream",
     "text": [
      "\n",
      "Attaching package: ‘SparkR’\n",
      "\n",
      "\n",
      "The following objects are masked from ‘package:stats’:\n",
      "\n",
      "    cov, filter, lag, na.omit, predict, sd, var, window\n",
      "\n",
      "\n",
      "The following objects are masked from ‘package:base’:\n",
      "\n",
      "    as.data.frame, colnames, colnames<-, drop, endsWith, intersect,\n",
      "    rank, rbind, sample, startsWith, subset, summary, transform, union\n",
      "\n",
      "\n",
      "Spark package found in SPARK_HOME: /usr/local/spark\n",
      "\n"
     ]
    },
    {
     "name": "stdout",
     "output_type": "stream",
     "text": [
      "Launching java with spark-submit command /usr/local/spark/bin/spark-submit   --driver-memory \"4g\" sparkr-shell /tmp/RtmpTmefaY/backend_port6c1356a8e286 \n"
     ]
    },
    {
     "data": {
      "text/plain": [
       "Java ref type org.apache.spark.sql.SparkSession id 1 "
      ]
     },
     "metadata": {},
     "output_type": "display_data"
    },
    {
     "name": "stdout",
     "output_type": "stream",
     "text": [
      "'data.frame':\t48981 obs. of  39 variables:\n",
      " $ duration                   : int  0 0 0 0 0 0 0 0 0 0 ...\n",
      " $ src_bytes                  : int  278 212 208 200 180 255 236 240 231 224 ...\n",
      " $ dst_bytes                  : int  957 294 4106 1061 559 16123 2063 2118 8766 1658 ...\n",
      " $ land                       : int  0 0 0 0 0 0 0 0 0 0 ...\n",
      " $ wrong_fragment             : int  0 0 0 0 0 0 0 0 0 0 ...\n",
      " $ urgent                     : int  0 0 0 0 0 0 0 0 0 0 ...\n",
      " $ hot                        : int  0 0 0 0 0 0 0 0 0 0 ...\n",
      " $ num_failed_logins          : int  0 0 0 0 0 0 0 0 0 0 ...\n",
      " $ logged_in                  : int  1 1 1 1 1 1 1 1 1 1 ...\n",
      " $ num_compromised            : int  0 0 0 0 0 0 0 0 0 0 ...\n",
      " $ root_shell                 : int  0 0 0 0 0 0 0 0 0 0 ...\n",
      " $ su_attempted               : int  0 0 0 0 0 0 0 0 0 0 ...\n",
      " $ num_root                   : int  0 0 0 0 0 0 0 0 0 0 ...\n",
      " $ num_file_creations         : int  0 0 0 0 0 0 0 0 0 0 ...\n",
      " $ num_shells                 : int  0 0 0 0 0 0 0 0 0 0 ...\n",
      " $ num_access_files           : int  0 0 0 0 0 0 0 0 0 0 ...\n",
      " $ num_outbound_cmds          : int  0 0 0 0 0 0 0 0 0 0 ...\n",
      " $ is_host_login              : int  0 0 0 0 0 0 0 0 0 0 ...\n",
      " $ is_guest_login             : int  0 0 0 0 0 0 0 0 0 0 ...\n",
      " $ count                      : int  2 17 4 2 1 3 7 11 11 18 ...\n",
      " $ srv_count                  : int  2 17 4 3 1 13 7 11 11 18 ...\n",
      " $ serror_rate                : num  0 0 0 0 0 0 0 0 0 0 ...\n",
      " $ srv_serror_rate            : num  0 0 0 0 0 0 0 0 0 0 ...\n",
      " $ rerror_rate                : num  0 0 0 0 0 0 0 0 0 0 ...\n",
      " $ srv_rerror_rate            : num  0 0 0 0 0 0 0 0 0 0 ...\n",
      " $ same_srv_rate              : num  1 1 1 1 1 1 1 1 1 1 ...\n",
      " $ diff_srv_rate              : num  0 0 0 0 0 0 0 0 0 0 ...\n",
      " $ srv_diff_host_rate         : num  0 0 0 0.67 0 0.15 0 0 0 0 ...\n",
      " $ dst_host_count             : int  5 17 4 4 37 29 28 32 46 91 ...\n",
      " $ dst_host_srv_count         : int  68 108 255 255 255 255 255 255 255 255 ...\n",
      " $ dst_host_same_srv_rate     : num  1 1 1 1 1 1 1 1 1 1 ...\n",
      " $ dst_host_diff_srv_rate     : num  0 0 0 0 0 0 0 0 0 0 ...\n",
      " $ dst_host_same_src_port_rate: num  0.2 0.06 0.25 0.25 0.03 0.03 0.04 0.03 0.02 0.01 ...\n",
      " $ dst_host_srv_diff_host_rate: num  0.03 0.05 0.04 0.05 0.05 0.05 0.04 0.04 0.04 0.04 ...\n",
      " $ dst_host_serror_rate       : num  0 0 0 0 0 0 0 0 0 0 ...\n",
      " $ dst_host_srv_serror_rate   : num  0 0 0 0 0 0 0 0 0 0 ...\n",
      " $ dst_host_rerror_rate       : num  0 0 0 0 0 0 0 0 0 0 ...\n",
      " $ dst_host_srv_rerror_rate   : num  0 0 0 0 0 0 0 0 0 0 ...\n",
      " $ prediction                 : int  0 0 0 0 0 16 0 0 16 0 ...\n"
     ]
    },
    {
     "data": {
      "text/plain": [
       "clusters\n",
       "    0    16    28    29    36    37    40    49    55    60    64    97 \n",
       "47647  1109     6    17     1   193     2     1     1     2     1     1 "
      ]
     },
     "metadata": {},
     "output_type": "display_data"
    },
    {
     "name": "stderr",
     "output_type": "stream",
     "text": [
      "Installing package into ‘/home/mrowacz/R/x86_64-pc-linux-gnu-library/3.4’\n",
      "(as ‘lib’ is unspecified)\n",
      "\n"
     ]
    },
    {
     "data": {
      "text/plain": [
       "SparkDataFrame[duration:int, src_bytes:int, dst_bytes:int, land:int, wrong_fragment:int, urgent:int, hot:int, num_failed_logins:int, logged_in:int, num_compromised:int, root_shell:int, su_attempted:int, num_root:int, num_file_creations:int, num_shells:int, num_access_files:int, num_outbound_cmds:int, is_host_login:int, is_guest_login:int, count:int, srv_count:int, serror_rate:double, srv_serror_rate:double, rerror_rate:double, srv_rerror_rate:double, same_srv_rate:double, diff_srv_rate:double, srv_diff_host_rate:double, dst_host_count:int, dst_host_srv_count:int, dst_host_same_srv_rate:double, dst_host_diff_srv_rate:double, dst_host_same_src_port_rate:double, dst_host_srv_diff_host_rate:double, dst_host_serror_rate:double, dst_host_srv_serror_rate:double, dst_host_rerror_rate:double, dst_host_srv_rerror_rate:double]"
      ]
     },
     "metadata": {},
     "output_type": "display_data"
    }
   ],
   "source": [
    " # Copyright 2015 and onwards Sanford Ryza, Uri Laserson, Sean Owen and Joshua Wills\n",
    "#\n",
    "# See LICENSE file for further information.\n",
    "\n",
    "# This block only needed if running via RStudio:\n",
    "# If not set already, set to a Spark distro home directory, and Java home dir\n",
    "Sys.setenv(SPARK_HOME = \"/usr/local/spark\")\n",
    "# Sys.setenv(JAVA_HOME = \"/path/to/java\")\n",
    "library(SparkR, lib.loc = c(file.path(Sys.getenv(\"SPARK_HOME\"), \"R\", \"lib\")))\n",
    "# Set this appropriately for your cluster\n",
    "sparkR.session(master = \"local[*]\", sparkConfig = list(spark.driver.memory = \"4g\"))\n",
    "\n",
    "clusters_data <- read.df(\"hdfs://localhost:9000/ds/kddcup.data\", \"csv\",\n",
    "                         inferSchema = \"true\", header = \"false\")\n",
    "colnames(clusters_data) <- c(\n",
    "  \"duration\", \"protocol_type\", \"service\", \"flag\",\n",
    "  \"src_bytes\", \"dst_bytes\", \"land\", \"wrong_fragment\", \"urgent\",\n",
    "  \"hot\", \"num_failed_logins\", \"logged_in\", \"num_compromised\",\n",
    "  \"root_shell\", \"su_attempted\", \"num_root\", \"num_file_creations\",\n",
    "  \"num_shells\", \"num_access_files\", \"num_outbound_cmds\",\n",
    "  \"is_host_login\", \"is_guest_login\", \"count\", \"srv_count\",\n",
    "  \"serror_rate\", \"srv_serror_rate\", \"rerror_rate\", \"srv_rerror_rate\",\n",
    "  \"same_srv_rate\", \"diff_srv_rate\", \"srv_diff_host_rate\",\n",
    "  \"dst_host_count\", \"dst_host_srv_count\",\n",
    "  \"dst_host_same_srv_rate\", \"dst_host_diff_srv_rate\",\n",
    "  \"dst_host_same_src_port_rate\", \"dst_host_srv_diff_host_rate\",\n",
    "  \"dst_host_serror_rate\", \"dst_host_srv_serror_rate\",\n",
    "  \"dst_host_rerror_rate\", \"dst_host_srv_rerror_rate\",\n",
    "  \"label\")\n",
    "\n",
    "numeric_only <- cache(drop(clusters_data,\n",
    "                           c(\"protocol_type\", \"service\", \"flag\", \"label\")))\n",
    "\n",
    "kmeans_model <- spark.kmeans(numeric_only, ~ .,\n",
    "                             k = 100, maxIter = 40, initMode = \"k-means||\")\n",
    "\n",
    "clustering <- predict(kmeans_model, numeric_only)\n",
    "clustering_sample <- collect(sample(clustering, FALSE, 0.01))\n",
    "\n",
    "str(clustering_sample)\n",
    "\n",
    "clusters <- clustering_sample[\"prediction\"]\n",
    "data <- data.matrix(within(clustering_sample, rm(\"prediction\")))\n",
    "\n",
    "table(clusters)\n",
    "# clusters\n",
    "# 0    11    14    23    25    28    31    33    36    48    64    83    89\n",
    "# 47146     1     1     4   278   109    42  1190    13     1     2     1     2\n",
    "\n",
    "\n",
    "# install.packages(\"rgl\") # First time only\n",
    "library(rgl)\n",
    "\n",
    "# Make a random 3D projection and normalize\n",
    "random_projection <- matrix(data = rnorm(3*ncol(data)), ncol = 3)\n",
    "random_projection_norm <-\n",
    "  random_projection / sqrt(rowSums(random_projection*random_projection))\n",
    "\n",
    "# Project and make a new data frame\n",
    "projected_data <- data.frame(data %*% random_projection_norm)\n",
    "\n",
    "num_clusters <- max(clusters)\n",
    "palette <- rainbow(num_clusters)\n",
    "colors = sapply(clusters, function(c) palette[c])\n",
    "# plot3d(projected_data, col = colors, size = 10)\n",
    "\n",
    "unpersist(numeric_only)"
   ]
  },
  {
   "cell_type": "code",
   "execution_count": null,
   "metadata": {},
   "outputs": [],
   "source": []
  },
  {
   "cell_type": "code",
   "execution_count": 2,
   "metadata": {},
   "outputs": [],
   "source": [
    "plot3d(projected_data, col = colors, size = 10)"
   ]
  },
  {
   "cell_type": "code",
   "execution_count": null,
   "metadata": {},
   "outputs": [],
   "source": []
  }
 ],
 "metadata": {
  "kernelspec": {
   "display_name": "R",
   "language": "R",
   "name": "ir"
  },
  "language_info": {
   "codemirror_mode": "r",
   "file_extension": ".r",
   "mimetype": "text/x-r-source",
   "name": "R",
   "pygments_lexer": "r",
   "version": "3.4.4"
  }
 },
 "nbformat": 4,
 "nbformat_minor": 2
}
